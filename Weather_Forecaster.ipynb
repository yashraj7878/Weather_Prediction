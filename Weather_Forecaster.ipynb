{
  "nbformat": 4,
  "nbformat_minor": 0,
  "metadata": {
    "colab": {
      "provenance": []
    },
    "kernelspec": {
      "name": "python3",
      "display_name": "Python 3"
    },
    "language_info": {
      "name": "python"
    }
  },
  "cells": [
    {
      "cell_type": "code",
      "execution_count": 1,
      "metadata": {
        "colab": {
          "base_uri": "https://localhost:8080/"
        },
        "id": "_O0o4k5FHB5E",
        "outputId": "a134d59d-8a31-4b8a-cf65-5221ade4b7b2"
      },
      "outputs": [
        {
          "output_type": "stream",
          "name": "stdout",
          "text": [
            "Error fetching data. Please check your city name or API key.\n"
          ]
        }
      ],
      "source": [
        "import requests\n",
        "import datetime\n",
        "\n",
        "# API key and city (replace with your API key and desired city)\n",
        "API_KEY = '74842409b6655dc0c99c464a9b9f5803'\n",
        "CITY = 'New York'\n",
        "\n",
        "# URL to fetch 5-day weather forecast\n",
        "url = f'http://api.openweathermap.org/data/2.5/forecast?q={CITY}&appid={API_KEY}&units=metric'\n",
        "\n",
        "# Make a GET request to fetch the weather data\n",
        "response = requests.get(url)\n",
        "data = response.json()\n",
        "\n",
        "# Check if the request was successful\n",
        "if data['cod'] == '200':\n",
        "    # Extract and print 5-day forecast\n",
        "    print(f\"5-day weather forecast for {CITY}:\\n\")\n",
        "    for forecast in data['list']:\n",
        "        # Convert timestamp to human-readable date and time\n",
        "        date_time = datetime.datetime.fromtimestamp(forecast['dt']).strftime('%Y-%m-%d %H:%M:%S')\n",
        "        temperature = forecast['main']['temp']\n",
        "        description = forecast['weather'][0]['description']\n",
        "        wind_speed = forecast['wind']['speed']\n",
        "        humidity = forecast['main']['humidity']\n",
        "\n",
        "        print(f\"{date_time} | Temp: {temperature}°C | Weather: {description} | Wind Speed: {wind_speed} m/s | Humidity: {humidity}%\")\n",
        "else:\n",
        "    print(\"Error fetching data. Please check your city name or API key.\")\n"
      ]
    },
    {
      "cell_type": "code",
      "source": [
        "import matplotlib.pyplot as plt\n",
        "import datetime\n",
        "\n",
        "# Extracting time and temperature from the data for plotting\n",
        "times = [datetime.datetime.fromtimestamp(item['dt']).strftime('%Y-%m-%d %H:%M:%S') for item in data['list']]\n",
        "temperatures = [item['main']['temp'] for item in data['list']]\n",
        "\n",
        "# Create a plot\n",
        "plt.plot(times, temperatures, marker='o', linestyle='-', color='b')\n",
        "\n",
        "# Improve the plot appearance\n",
        "plt.xticks(rotation=45, ha='right')\n",
        "plt.title(f'Temperature Forecast for {CITY}')\n",
        "plt.xlabel('Date/Time')\n",
        "plt.ylabel('Temperature (°C)')\n",
        "plt.grid(True)\n",
        "\n",
        "# Display the plot\n",
        "plt.tight_layout()\n",
        "plt.show()\n"
      ],
      "metadata": {
        "colab": {
          "base_uri": "https://localhost:8080/",
          "height": 228
        },
        "id": "bmO05lDFHaSE",
        "outputId": "222a6700-b161-405f-e5ae-0e6c5e5d3744"
      },
      "execution_count": 2,
      "outputs": [
        {
          "output_type": "error",
          "ename": "KeyError",
          "evalue": "'list'",
          "traceback": [
            "\u001b[0;31m---------------------------------------------------------------------------\u001b[0m",
            "\u001b[0;31mKeyError\u001b[0m                                  Traceback (most recent call last)",
            "\u001b[0;32m<ipython-input-2-4ecac34d02ab>\u001b[0m in \u001b[0;36m<cell line: 5>\u001b[0;34m()\u001b[0m\n\u001b[1;32m      3\u001b[0m \u001b[0;34m\u001b[0m\u001b[0m\n\u001b[1;32m      4\u001b[0m \u001b[0;31m# Extracting time and temperature from the data for plotting\u001b[0m\u001b[0;34m\u001b[0m\u001b[0;34m\u001b[0m\u001b[0m\n\u001b[0;32m----> 5\u001b[0;31m \u001b[0mtimes\u001b[0m \u001b[0;34m=\u001b[0m \u001b[0;34m[\u001b[0m\u001b[0mdatetime\u001b[0m\u001b[0;34m.\u001b[0m\u001b[0mdatetime\u001b[0m\u001b[0;34m.\u001b[0m\u001b[0mfromtimestamp\u001b[0m\u001b[0;34m(\u001b[0m\u001b[0mitem\u001b[0m\u001b[0;34m[\u001b[0m\u001b[0;34m'dt'\u001b[0m\u001b[0;34m]\u001b[0m\u001b[0;34m)\u001b[0m\u001b[0;34m.\u001b[0m\u001b[0mstrftime\u001b[0m\u001b[0;34m(\u001b[0m\u001b[0;34m'%Y-%m-%d %H:%M:%S'\u001b[0m\u001b[0;34m)\u001b[0m \u001b[0;32mfor\u001b[0m \u001b[0mitem\u001b[0m \u001b[0;32min\u001b[0m \u001b[0mdata\u001b[0m\u001b[0;34m[\u001b[0m\u001b[0;34m'list'\u001b[0m\u001b[0;34m]\u001b[0m\u001b[0;34m]\u001b[0m\u001b[0;34m\u001b[0m\u001b[0;34m\u001b[0m\u001b[0m\n\u001b[0m\u001b[1;32m      6\u001b[0m \u001b[0mtemperatures\u001b[0m \u001b[0;34m=\u001b[0m \u001b[0;34m[\u001b[0m\u001b[0mitem\u001b[0m\u001b[0;34m[\u001b[0m\u001b[0;34m'main'\u001b[0m\u001b[0;34m]\u001b[0m\u001b[0;34m[\u001b[0m\u001b[0;34m'temp'\u001b[0m\u001b[0;34m]\u001b[0m \u001b[0;32mfor\u001b[0m \u001b[0mitem\u001b[0m \u001b[0;32min\u001b[0m \u001b[0mdata\u001b[0m\u001b[0;34m[\u001b[0m\u001b[0;34m'list'\u001b[0m\u001b[0;34m]\u001b[0m\u001b[0;34m]\u001b[0m\u001b[0;34m\u001b[0m\u001b[0;34m\u001b[0m\u001b[0m\n\u001b[1;32m      7\u001b[0m \u001b[0;34m\u001b[0m\u001b[0m\n",
            "\u001b[0;31mKeyError\u001b[0m: 'list'"
          ]
        }
      ]
    },
    {
      "cell_type": "code",
      "source": [],
      "metadata": {
        "id": "-mgCJGpkH1Ww"
      },
      "execution_count": null,
      "outputs": []
    }
  ]
}